{
  "nbformat": 4,
  "nbformat_minor": 0,
  "metadata": {
    "colab": {
      "provenance": [],
      "authorship_tag": "ABX9TyOs9/pStBSPhLBcYzArRN+y",
      "include_colab_link": true
    },
    "kernelspec": {
      "name": "python3",
      "display_name": "Python 3"
    },
    "language_info": {
      "name": "python"
    }
  },
  "cells": [
    {
      "cell_type": "markdown",
      "metadata": {
        "id": "view-in-github",
        "colab_type": "text"
      },
      "source": [
        "<a href=\"https://colab.research.google.com/github/daniyalhassan225/ATM_MACHINE/blob/main/class7.ipynb\" target=\"_parent\"><img src=\"https://colab.research.google.com/assets/colab-badge.svg\" alt=\"Open In Colab\"/></a>"
      ]
    },
    {
      "cell_type": "code",
      "execution_count": 7,
      "metadata": {
        "colab": {
          "base_uri": "https://localhost:8080/"
        },
        "id": "jRIdNiUnyuTe",
        "outputId": "0640e666-d190-4d54-e072-a8316d0f169b"
      },
      "outputs": [
        {
          "output_type": "stream",
          "name": "stdout",
          "text": [
            "{'name': 'Daniyal', 'IsMarried': True, 'address': {'line1': 'xyz street', 'city': 'Karachi', 'country': 'Pakistan'}, 'skills': ['python', 'java', 'c++']}\n"
          ]
        }
      ],
      "source": [
        "user1 = {\n",
        "    \"name\": \"Daniyal\",\n",
        "    \"age\": 22,\n",
        "    \"IsMarried\": True,\n",
        "    \"address\": {  #agr hmy dic mn dic bnani ho tu is trh bna sakty hn\n",
        "        \"line1\" : \"xyz street\",\n",
        "        \"city\" : \"Karachi\",\n",
        "        \"country\" : \"Pakistan\"\n",
        "    },\n",
        "    \"skills\" : [\"python\" , \"java\", \"c++\"]\n",
        "}\n",
        "\n",
        "#user1[\"height\"] = 5.9 #agr dic mn ksi ko add krwany chahe tu hm yhan sy bhi kar sakty hn\n",
        "del user1[\"age\"] #agr ksi variable ko delete krni ho tu \"del\" ko lga sakty hn\n",
        "print(user1)"
      ]
    },
    {
      "cell_type": "code",
      "source": [],
      "metadata": {
        "id": "Pk78fpzN0rW3"
      },
      "execution_count": null,
      "outputs": []
    }
  ]
}